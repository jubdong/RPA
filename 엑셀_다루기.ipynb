{
 "cells": [
  {
   "cell_type": "code",
   "execution_count": null,
   "metadata": {},
   "outputs": [],
   "source": [
    "import win32com.client\n",
    "import pandas as pd\n",
    "import pyautogui as pg\n",
    "import numpy"
   ]
  },
  {
   "cell_type": "code",
   "execution_count": null,
   "metadata": {},
   "outputs": [],
   "source": [
    "#엑셀 열기\n",
    "excel = win32com.client.Dispatch('Excel.Application')\n",
    "excel.Visible = True\n",
    "wb = excel.Workbooks.Open('D:/sample.xlsx') #제품별 생산량 데이터\n",
    "ws = wb.Worksheets('sheet1')"
   ]
  },
  {
   "cell_type": "code",
   "execution_count": null,
   "metadata": {},
   "outputs": [],
   "source": [
    "#엑셀 저장하기\n",
    "wb.Save()"
   ]
  },
  {
   "cell_type": "markdown",
   "metadata": {},
   "source": [
    "## 다음과 같은 에러 발생시 조치 방법\n",
    "\n",
    "win = pg.getWindowsWithTitle('sample')[0]\n",
    "\n",
    "\n",
    "win.activate()\n",
    "\n",
    "\n",
    "---------------------------------------------------------------------------\n",
    "\n",
    "PyGetWindowException                      Traceback (most recent call last)\n",
    "\n",
    "c:\\leecoding\\web\\엑셀_다루기.ipynb Cell 4' in <cell line: 2>()\n",
    "\n",
    "      1 win = pg.getWindowsWithTitle('sample')[0]\n",
    "\n",
    "----> 2 win.activate()\n",
    "\n",
    "\n",
    "File c:\\Users\\POSCOUSER.PC19SA003\\AppData\\Local\\Programs\\Python\\Python39\\lib\\site-packages\\pygetwindow\\_pygetwindow_win.py:246, in Win32Window.activate(self)\n",
    "\n",
    "    244 result = ctypes.windll.user32.SetForegroundWindow(self._hWnd)\n",
    "\n",
    "    245 if result == 0:\n",
    "    \n",
    "--> 246     _raiseWithLastError()\n",
    "\n",
    "\n",
    "File c:\\Users\\POSCOUSER.PC19SA003\\AppData\\Local\\Programs\\Python\\Python39\\lib\\site-packages\\pygetwindow\\_pygetwindow_win.py:99, in _raiseWithLastError()\n",
    "     96 \"\"\"A helper function that raises PyGetWindowException using the error\n",
    "     97 information from GetLastError() and FormatMessage().\"\"\"\n",
    "     98 errorCode = ctypes.windll.kernel32.GetLastError()\n",
    "---> 99 raise PyGetWindowException('Error code from Windows: %s - %s' % (errorCode, _formatMessage(errorCode)))\n",
    "\n",
    "PyGetWindowException: Error code from Windows: 0 - 작업을 완료했습니다.\n",
    "\n",
    "\n"
   ]
  },
  {
   "cell_type": "code",
   "execution_count": null,
   "metadata": {},
   "outputs": [],
   "source": [
    "# import pywinauto\n",
    "# win = pg.getWindowsWithTitle(\"sample\")[0] #특정 제목이 있는 창의 정보를 첫번째 리스트에 가져오기\n",
    "\n",
    "# pywinauto.application.Application().connect(handle=win._hWnd).top_window().set_focus()\n",
    "# win.activate()\n",
    "\n",
    "pg.sleep(5)\n",
    "pg.hotkey('ctrl','home') #A1 이동 단축키\n",
    "pg.hotkey('ctrl','a')\n",
    "pg.hotkey('ctrl','c')\n",
    "\n",
    "excel_data = pd.read_clipboard()\n"
   ]
  },
  {
   "cell_type": "code",
   "execution_count": null,
   "metadata": {},
   "outputs": [],
   "source": [
    "wb.Save()\n",
    "excel.Quit()"
   ]
  },
  {
   "cell_type": "code",
   "execution_count": null,
   "metadata": {},
   "outputs": [],
   "source": [
    "#회사보안문서 보안 풀기!\n",
    "excel_data.to_excel('D:/sample.xlsx')"
   ]
  },
  {
   "cell_type": "code",
   "execution_count": null,
   "metadata": {},
   "outputs": [],
   "source": [
    "#df = pd.read_excel('D:/sample.xlsx', index_col=0)\n",
    "df = pd.read_excel('D:/sample.xlsx')\n",
    "df"
   ]
  },
  {
   "cell_type": "code",
   "execution_count": null,
   "metadata": {},
   "outputs": [],
   "source": [
    "df.drop(['Unnamed: 0'],axis=1, inplace=True) #df에도 적용시키기 위한 조건 inplace = True\n",
    "# df = df.drop(['Unnamed: 0'],axis=1) 동일 결과 다른 방법\n",
    "\n",
    "df"
   ]
  },
  {
   "cell_type": "code",
   "execution_count": null,
   "metadata": {},
   "outputs": [],
   "source": [
    "df.describe()"
   ]
  },
  {
   "cell_type": "code",
   "execution_count": null,
   "metadata": {},
   "outputs": [],
   "source": [
    "df[['1분기','3분기']]"
   ]
  },
  {
   "cell_type": "code",
   "execution_count": null,
   "metadata": {},
   "outputs": [],
   "source": [
    "df[0:5]"
   ]
  },
  {
   "cell_type": "code",
   "execution_count": null,
   "metadata": {},
   "outputs": [],
   "source": [
    "df.loc[0:5,['1분기','2분기']]"
   ]
  },
  {
   "cell_type": "code",
   "execution_count": null,
   "metadata": {},
   "outputs": [],
   "source": [
    "df.iloc[0:5,0:3]"
   ]
  },
  {
   "cell_type": "code",
   "execution_count": 41,
   "metadata": {},
   "outputs": [],
   "source": [
    "ws.Cells(15,1).Value = df.iloc[0,0]"
   ]
  },
  {
   "cell_type": "code",
   "execution_count": 45,
   "metadata": {},
   "outputs": [],
   "source": [
    "for i in range(1,6):\n",
    "    ws.Cells(17,i).Value = df.iloc[0,i-1]"
   ]
  }
 ],
 "metadata": {
  "interpreter": {
   "hash": "f83d677db8bd35d2fb0873f2db9b473d98cd1a0194512a81b941b3e6839d6f79"
  },
  "kernelspec": {
   "display_name": "Python 3.9.10 64-bit",
   "language": "python",
   "name": "python3"
  },
  "language_info": {
   "codemirror_mode": {
    "name": "ipython",
    "version": 3
   },
   "file_extension": ".py",
   "mimetype": "text/x-python",
   "name": "python",
   "nbconvert_exporter": "python",
   "pygments_lexer": "ipython3",
   "version": "3.9.10"
  },
  "orig_nbformat": 4
 },
 "nbformat": 4,
 "nbformat_minor": 2
}
