{
 "cells": [
  {
   "cell_type": "code",
   "execution_count": null,
   "metadata": {},
   "outputs": [],
   "source": [
    "from selenium  import webdriver\n",
    "import pyautogui as pg"
   ]
  },
  {
   "cell_type": "code",
   "execution_count": null,
   "metadata": {},
   "outputs": [],
   "source": [
    "for win in pg.getAllWindows():\n",
    "    print(win)"
   ]
  },
  {
   "cell_type": "code",
   "execution_count": 13,
   "metadata": {},
   "outputs": [],
   "source": [
    "#포철공고 홈페이지 실행\n",
    "url = \"http://school.gyo6.net/pocheoltechhs\"\n",
    "driver = webdriver.Chrome(\"../chromedriver.exe\")\n",
    "driver.get(url)\n",
    "\n",
    "driver.maximize_window()"
   ]
  },
  {
   "cell_type": "code",
   "execution_count": null,
   "metadata": {},
   "outputs": [],
   "source": [
    "for i in range(len(driver.window_handles)):\n",
    "    driver.switch_to.window(driver.window_handles[i])\n",
    "    print(driver.title)"
   ]
  },
  {
   "cell_type": "code",
   "execution_count": null,
   "metadata": {},
   "outputs": [],
   "source": [
    "# driver.find_element_by_class_name('popupCookieSet')\n",
    "# driver.find_elements_by_class_name('popupCookieSet')\n",
    "# 복수인 경우 elements\n",
    "\n",
    "driver.find_elements_by_class_name('popupCookieSet')\n"
   ]
  },
  {
   "cell_type": "code",
   "execution_count": 12,
   "metadata": {},
   "outputs": [],
   "source": [
    "#셀레니움을 이용한 팝업창 닫기\n",
    "pop = driver.find_elements_by_class_name('popupCookieSet')\n",
    "\n",
    "for i in range(len(pop)-1,-1,-1):\n",
    "    pop[i].click()\n",
    "\n"
   ]
  },
  {
   "cell_type": "code",
   "execution_count": 21,
   "metadata": {},
   "outputs": [],
   "source": [
    "#pyautogui를 이용한 팝업창 닫기\n",
    "\n",
    "close_pop = pg.locateCenterOnScreen('close_pop.PNG')\n",
    "while close_pop != None:\n",
    "    pg.click(close_pop)\n",
    "    close_pop = pg.locateCenterOnScreen('close_pop.PNG')"
   ]
  },
  {
   "cell_type": "code",
   "execution_count": 22,
   "metadata": {},
   "outputs": [
    {
     "name": "stdout",
     "output_type": "stream",
     "text": [
      "Point(x=567, y=139)\n"
     ]
    }
   ],
   "source": [
    "print(close_pop)"
   ]
  }
 ],
 "metadata": {
  "interpreter": {
   "hash": "f83d677db8bd35d2fb0873f2db9b473d98cd1a0194512a81b941b3e6839d6f79"
  },
  "kernelspec": {
   "display_name": "Python 3.9.10 64-bit",
   "language": "python",
   "name": "python3"
  },
  "language_info": {
   "codemirror_mode": {
    "name": "ipython",
    "version": 3
   },
   "file_extension": ".py",
   "mimetype": "text/x-python",
   "name": "python",
   "nbconvert_exporter": "python",
   "pygments_lexer": "ipython3",
   "version": "3.9.10"
  },
  "orig_nbformat": 4
 },
 "nbformat": 4,
 "nbformat_minor": 2
}
