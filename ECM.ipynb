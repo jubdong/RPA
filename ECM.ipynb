{
 "cells": [
  {
   "cell_type": "code",
   "execution_count": 10,
   "metadata": {},
   "outputs": [],
   "source": [
    "from selenium import webdriver\n",
    "import pyautogui as pg\n",
    "import sys\n",
    "import clipboard as cb"
   ]
  },
  {
   "cell_type": "code",
   "execution_count": 11,
   "metadata": {},
   "outputs": [],
   "source": [
    "# EP 계정 정보 입력\n",
    "\n",
    "my_id = 'leedong58'\n",
    "my_pw = pg.password(title='패스워드',text='패스워드를 입력하세요')"
   ]
  },
  {
   "cell_type": "code",
   "execution_count": 13,
   "metadata": {},
   "outputs": [
    {
     "name": "stdout",
     "output_type": "stream",
     "text": [
      "ECM 클릭 중....\n",
      "ECM을 클릭하지 못 했음. 재시도 중!\n",
      "ECM 클릭 중....\n",
      "ECM 클릭 성공\n"
     ]
    }
   ],
   "source": [
    "# EP 열기\n",
    "\n",
    "driver = webdriver.Chrome('../chromedriver') \n",
    "driver.get('http://swp.posco.net')\n",
    "driver.maximize_window() # 창 최대화\n",
    "\n",
    "driver.implicitly_wait(10) # driver.get 하는 시간을 최대 10초를 주고 10초 내에 더 빨리 진행 되면 그 뒤의 문장을 진행하여라\n",
    "\n",
    "#아이디 Xpath\n",
    "# //*[@id=\"username\"]\n",
    "# 비밀번호 Xpath\n",
    "# //*[@id=\"password\"]\n",
    "# 로그인 Xpath\n",
    "# //*[@id=\"loginsubmit\"]\n",
    "\n",
    "driver.find_element_by_xpath('//*[@id=\"username\"]').send_keys(my_id)\n",
    "driver.find_element_by_xpath('//*[@id=\"password\"]').send_keys(my_pw)\n",
    "driver.find_element_by_xpath('//*[@id=\"loginsubmit\"]').click()\n",
    "pg.sleep(3)\n",
    "\n",
    "try:\n",
    "    alert = driver.switch_to.alert\n",
    "    alert.accept()\n",
    "except:\n",
    "    print(\"기존 경고창 없음\")\n",
    "\n",
    "#pg.sleep(3)\n",
    "\n",
    "#활성화 된 창을 검색해서 현재 창과 동일하면 진행\n",
    "\n",
    "for i in range(-1, len(driver.window_handles)):\n",
    "    success_check = False\n",
    "    driver.switch_to.window(driver.window_handles[i])\n",
    "    this_page_title = driver.title\n",
    "    if 'EP(Enterprise Portal)' in this_page_title:\n",
    "        for j in range(3):\n",
    "            try:\n",
    "                print('ECM 클릭 중....')\n",
    "                driver.find_element_by_xpath('//*[@id=\"544672\"]/a[1]/span[1]/img').click() #ECM 실행\n",
    "            except: #try 조건이 거짓인 경우\n",
    "                print('ECM을 클릭하지 못 했음. 재시도 중!')\n",
    "            else: #try 조건이 참인 경우\n",
    "                print('ECM 클릭 성공')\n",
    "                success_check = True\n",
    "                break\n",
    "        break    \n",
    "if success_check is False:\n",
    "    print('진행 중 오류 발생')\n",
    "    sys.exit()   #해당 줄 이후 코드 진행 중단"
   ]
  },
  {
   "cell_type": "code",
   "execution_count": 18,
   "metadata": {},
   "outputs": [
    {
     "name": "stdout",
     "output_type": "stream",
     "text": [
      "ECM 등록 클릭 중....\n",
      "ECM 등록 클릭 성공\n"
     ]
    }
   ],
   "source": [
    "#ECM 창이 열려 있는 상태에서 파일 등록하기\n",
    "\n",
    "\n",
    "pg.sleep(3)\n",
    "\n",
    "#활성화 된 창을 검색해서 현재 창과 동일하면 진행\n",
    "\n",
    "for i in range(-1, len(driver.window_handles)):\n",
    "    success_check = False\n",
    "    driver.switch_to.window(driver.window_handles[i])\n",
    "    this_page_title = driver.title\n",
    "    if 'ECM(Enterprise Contents Management)' in this_page_title:\n",
    "        for j in range(3):\n",
    "            try:\n",
    "                print('ECM 등록 클릭 중....')\n",
    "                driver.find_element_by_xpath('//*[@id=\"registerBtn\"]/div/a[1]/span/em').click() #ECM 실행\n",
    "            except: #try 조건이 거짓인 경우\n",
    "                print('ECM을 등록 클릭하지 못 했음. 재시도 중!')\n",
    "            else: #try 조건이 참인 경우 \n",
    "                print('ECM 등록 클릭 성공')\n",
    "                success_check = True\n",
    "                break\n",
    "        break    \n",
    "if success_check is False:\n",
    "    print('진행 중 오류 발생')\n",
    "    sys.exit()   #해당 줄 이후 코드 진행 중단\n",
    "\n",
    "pg.sleep(3)\n",
    "\n",
    "file_name = 'D:\\sample.xlsx'\n",
    "cb.copy(file_name)\n",
    "pg.sleep(0.5)\n",
    "pg.hotkey('ctrl','v')\n",
    "pg.sleep(0.5)\n",
    "pg.press('enter')"
   ]
  },
  {
   "cell_type": "code",
   "execution_count": null,
   "metadata": {},
   "outputs": [],
   "source": [
    "iframes = driver.find_elements_by_tag_name('iframe') #iframe 여러개 찾기\n",
    "print(iframes)\n",
    "print(len(iframes))"
   ]
  },
  {
   "cell_type": "code",
   "execution_count": null,
   "metadata": {},
   "outputs": [],
   "source": [
    "#컨텐츠 등록 창에서 ...  --> frame찾지 못해 실행 불가\n",
    "\n",
    "#iframe이 무엇인가,....?\n",
    "#한 개의 창 안에 다중 창이 떠 있는 경우 각각의 frame ?\n",
    "\n",
    "\n",
    "\n",
    "driver.switch_to_frame(0) # 컨텐츠 등록 frame으로 전환\n",
    "driver.find_element_by_xpath('//*[@id=\"pagetabCONTENTS\"]/div/div[2]/span/table/tbody/tr/td[2]/a').click # 최근저장 버튼 클릭\n"
   ]
  },
  {
   "cell_type": "code",
   "execution_count": 24,
   "metadata": {},
   "outputs": [
    {
     "name": "stdout",
     "output_type": "stream",
     "text": [
      "Point(x=560, y=430)\n"
     ]
    }
   ],
   "source": [
    "#pyautogui 활용 하여 최근 저장 클릭하기\n",
    "\n",
    "btn_save = pg.locateCenterOnScreen('cap2.PNG')\n",
    "print(btn_save)\n",
    "pg.click(btn_save)"
   ]
  }
 ],
 "metadata": {
  "interpreter": {
   "hash": "f83d677db8bd35d2fb0873f2db9b473d98cd1a0194512a81b941b3e6839d6f79"
  },
  "kernelspec": {
   "display_name": "Python 3.9.10 64-bit",
   "language": "python",
   "name": "python3"
  },
  "language_info": {
   "codemirror_mode": {
    "name": "ipython",
    "version": 3
   },
   "file_extension": ".py",
   "mimetype": "text/x-python",
   "name": "python",
   "nbconvert_exporter": "python",
   "pygments_lexer": "ipython3",
   "version": "3.9.10"
  },
  "orig_nbformat": 4
 },
 "nbformat": 4,
 "nbformat_minor": 2
}
