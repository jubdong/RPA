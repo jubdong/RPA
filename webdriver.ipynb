{
 "cells": [
  {
   "cell_type": "markdown",
   "metadata": {},
   "source": [
    "#### 라이브러리 불러오기"
   ]
  },
  {
   "cell_type": "code",
   "execution_count": 1,
   "metadata": {},
   "outputs": [],
   "source": [
    "from selenium import webdriver"
   ]
  },
  {
   "cell_type": "markdown",
   "metadata": {},
   "source": [
    "#### Chrome 실행"
   ]
  },
  {
   "cell_type": "code",
   "execution_count": null,
   "metadata": {},
   "outputs": [],
   "source": [
    "driver = webdriver.Chrome('../chromedriver') # chromedrive.exe로 입력해도 됨 #../ 현재 폴더 보다 상위 1폴더\n",
    "driver.get('http://naver.com')\n",
    "\n",
    "driver.maximize_window() # 창 최대화"
   ]
  },
  {
   "cell_type": "code",
   "execution_count": null,
   "metadata": {},
   "outputs": [],
   "source": [
    "driver\n",
    "#session ? "
   ]
  },
  {
   "cell_type": "markdown",
   "metadata": {},
   "source": [
    "#### IE 실행"
   ]
  },
  {
   "cell_type": "code",
   "execution_count": 3,
   "metadata": {},
   "outputs": [],
   "source": [
    "driver = webdriver.Ie('../IEDriverServer') \n",
    "driver.get('http://naver.com')\n",
    "driver.maximize_window() # 창 최대화"
   ]
  },
  {
   "cell_type": "markdown",
   "metadata": {},
   "source": [
    "#### Edge실행"
   ]
  },
  {
   "cell_type": "code",
   "execution_count": null,
   "metadata": {},
   "outputs": [],
   "source": [
    "driver = webdriver.Edge('msedgedriver.exe') # chromedrive.exe로 입력해도 됨 #../ 현재 폴더 보다 상위 1폴더\n",
    "driver.get('http://naver.com')\n",
    "driver.maximize_window() # 창 최대화"
   ]
  },
  {
   "cell_type": "markdown",
   "metadata": {},
   "source": [
    "#### 실습"
   ]
  },
  {
   "cell_type": "code",
   "execution_count": null,
   "metadata": {},
   "outputs": [],
   "source": [
    "from selenium import webdriver\n",
    "\n",
    "driver = webdriver.Chrome('../chromedriver') # chromedrive.exe로 입력해도 됨 #../ 현재 폴더 보다 한 단계 상위 폴더\n",
    "driver.get('http://naver.com')\n",
    "\n",
    "driver.maximize_window() # 창 최대화\n"
   ]
  },
  {
   "cell_type": "code",
   "execution_count": null,
   "metadata": {},
   "outputs": [],
   "source": [
    " #네이버 검색창 id : query 찾고 검색어 입력\n",
    "driver.find_element_by_id(\"query\").send_keys('부동산원')"
   ]
  },
  {
   "cell_type": "code",
   "execution_count": null,
   "metadata": {},
   "outputs": [],
   "source": [
    "# 검색 버튼 찾고 검색 버튼 누르기 방법1\n",
    "driver.find_element_by_xpath('//*[@id=\"search_btn\"]/span[2]').click()"
   ]
  },
  {
   "cell_type": "code",
   "execution_count": null,
   "metadata": {},
   "outputs": [],
   "source": [
    "# 검색 버튼 찾고 검색 버튼 누르기 방법2\n",
    "driver.find_element_by_xpath('//*[@id=\"search_btn\"]').click()"
   ]
  },
  {
   "cell_type": "code",
   "execution_count": null,
   "metadata": {},
   "outputs": [],
   "source": [
    "# 검색 버튼 찾고 검색 버튼 누르기 방법3(id 활용)\n",
    "driver.find_element_by_id(\"search_btn\").click()\n"
   ]
  },
  {
   "cell_type": "markdown",
   "metadata": {},
   "source": [
    "#### 실습\n",
    "#### 부동산원에 접속해서 매매가격지수(아파트) 엑셀 다운 받기\n",
    "#### 최종 창에서 시작"
   ]
  },
  {
   "cell_type": "code",
   "execution_count": 40,
   "metadata": {},
   "outputs": [],
   "source": [
    "#부동산원에 접속해서 매매가격지수(아파트) 엑셀 다운 받기\n",
    "#최종 창에서 시작\n",
    "\n",
    "from selenium import webdriver\n",
    "import time\n",
    "\n",
    "driver = webdriver.Chrome('../chromedriver') # chromedrive.exe로 입력해도 됨 #../ 현재 폴더 보다 한 단계 상위 폴더\n",
    "driver.get('https://www.reb.or.kr/r-one/statistics/statisticsViewer.do?menuId=HOUSE_21211')\n",
    "driver.maximize_window() # 창 최대화\n",
    "\n",
    "#검색기간 시작년도 XPath //*[@id=\"researchYear_s\"]\n",
    "from selenium.webdriver.support.ui import Select #Select 함수 불러오기\n",
    "select = Select(driver.find_element_by_xpath('//*[@id=\"researchYear_s\"]'))\n",
    "select.select_by_value('2020')\n",
    "time.sleep(1)\n",
    "# 시작 월\n",
    "select = Select(driver.find_element_by_xpath('//*[@id=\"researchMonth_s\"]'))\n",
    "select.select_by_value('02')\n",
    "time.sleep(1)\n",
    "\n",
    "#검색기간 종료년도 XPath //*[@id=\"researchYear_s\"]\n",
    "from selenium.webdriver.support.ui import Select #Select 함수 불러오기\n",
    "select = Select(driver.find_element_by_xpath('//*[@id=\"researchYear_e\"]'))\n",
    "select.select_by_value('2021')\n",
    "time.sleep(1)\n",
    "# 종료 월\n",
    "select = Select(driver.find_element_by_xpath('//*[@id=\"researchMonth_e\"]'))\n",
    "select.select_by_value('12')\n",
    "time.sleep(1)\n",
    "\n",
    "#확인 버튼\n",
    "#//*[@id=\"statisticsBtnOk\"]\n",
    "driver.find_element_by_xpath('//*[@id=\"statisticsBtnOk\"]').click()\n",
    "\n",
    "time.sleep(3)\n",
    "\n",
    "# 다운로드 버튼 XPath \n",
    "# //*[@id=\"imgDownloadAll\"]\n",
    "driver.find_element_by_xpath('//*[@id=\"imgDownloadAll\"]').click()\n"
   ]
  },
  {
   "cell_type": "markdown",
   "metadata": {},
   "source": [
    "#### 실습\n",
    "#### 부동산원에 접속해서 매매가격지수(아파트) 엑셀 다운 받기\n",
    "#### 홈페이지 첫 접속부터"
   ]
  },
  {
   "cell_type": "code",
   "execution_count": 36,
   "metadata": {},
   "outputs": [
    {
     "name": "stderr",
     "output_type": "stream",
     "text": [
      "C:\\Users\\Public\\Documents\\ESTsoft\\CreatorTemp\\ipykernel_9732\\1497783287.py:16: DeprecationWarning: use driver.switch_to.window instead\n",
      "  driver.switch_to_window(driver.window_handles[-1])\n"
     ]
    }
   ],
   "source": [
    "#부동산원에 접속해서 매매가격지수(아파트) 엑셀 다운 받기\n",
    "#홈페이지 첫 접속부터\n",
    "\n",
    "from selenium import webdriver\n",
    "import time\n",
    "\n",
    "driver = webdriver.Chrome('../chromedriver') # chromedrive.exe로 입력해도 됨 #../ 현재 폴더 보다 한 단계 상위 폴더\n",
    "driver.get('https://www.reb.or.kr/reb/main.do')\n",
    "driver.maximize_window() # 창 최대화\n",
    "\n",
    "\n",
    "# //*[@id=\"contents\"]/section[2]/div/div[2]/h3/a 새창열기\n",
    "driver.find_element_by_xpath('//*[@id=\"contents\"]/section[2]/div/div[2]/h3/a').click()\n",
    "\n",
    "# 가장 최근 창으로 전환하기\n",
    "driver.switch_to.window(driver.window_handles[-1])\n",
    "\n",
    "# //*[@id=\"tab\"]/li[3]/a\n",
    "driver.find_element_by_xpath('//*[@id=\"tab\"]/li[3]/a').click()\n",
    "#//*[@id=\"tab02\"]/div[2]/ul/li[4]/a\n",
    "driver.find_element_by_xpath('//*[@id=\"tab02\"]/div[2]/ul/li[4]/a').click()\n",
    "\n",
    "# 가장 최근 창으로 전환하기\n",
    "driver.switch_to.window(driver.window_handles[-1])\n",
    "\n",
    "# 창 실행 후 그래프 생성 시간에 대한 sleep 부여\n",
    "time.sleep(3)\n",
    "\n",
    "# XPath \n",
    "# //*[@id=\"imgDownloadAll\"]\n",
    "\n",
    "driver.find_element_by_xpath('//*[@id=\"imgDownloadAll\"]').click()\n"
   ]
  },
  {
   "cell_type": "code",
   "execution_count": 33,
   "metadata": {},
   "outputs": [
    {
     "data": {
      "text/plain": [
       "['CDwindow-DC8C37BE3426D51DA8C656E71D5FAF7F',\n",
       " 'CDwindow-60EDB90D0D0B0FE717F5193329642C33']"
      ]
     },
     "execution_count": 33,
     "metadata": {},
     "output_type": "execute_result"
    }
   ],
   "source": [
    "#현재 모든 창들의 주소 값 확인\n",
    "\n",
    "driver.window_handles"
   ]
  }
 ],
 "metadata": {
  "interpreter": {
   "hash": "f83d677db8bd35d2fb0873f2db9b473d98cd1a0194512a81b941b3e6839d6f79"
  },
  "kernelspec": {
   "display_name": "Python 3.9.10 64-bit",
   "language": "python",
   "name": "python3"
  },
  "language_info": {
   "codemirror_mode": {
    "name": "ipython",
    "version": 3
   },
   "file_extension": ".py",
   "mimetype": "text/x-python",
   "name": "python",
   "nbconvert_exporter": "python",
   "pygments_lexer": "ipython3",
   "version": "3.9.10"
  },
  "orig_nbformat": 4
 },
 "nbformat": 4,
 "nbformat_minor": 2
}
