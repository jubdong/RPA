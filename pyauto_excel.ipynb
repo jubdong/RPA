{
 "cells": [
  {
   "cell_type": "code",
   "execution_count": 9,
   "metadata": {},
   "outputs": [],
   "source": [
    "import pyautogui as pg\n",
    "import clipboard as cb\n"
   ]
  },
  {
   "cell_type": "code",
   "execution_count": 2,
   "metadata": {},
   "outputs": [],
   "source": [
    "score = [\n",
    "    ('홍길동1','80','90','70'),\n",
    "    ('홍길동2','90','85','75'),\n",
    "    ('홍길동3','60','85','65'),\n",
    "    ('홍길동4','100','100','100'),\n",
    "    ('홍길동5','90','95','95')\n",
    "    ]"
   ]
  },
  {
   "cell_type": "code",
   "execution_count": 21,
   "metadata": {},
   "outputs": [],
   "source": [
    "#엑셀 창 활성화(선택)하기 반드시 수행할것 중요!!!!!\n",
    "win = pg.getWindowsWithTitle('통합')\n",
    "win[0].activate()\n",
    "\n",
    "\n",
    "cb.copy('성명\\t국어\\t영어\\t수학')\n",
    "pg.sleep(0.5)\n",
    "pg.hotkey('ctrl','v')\n",
    "pg.press('down')\n",
    "\n",
    "for i in score:\n",
    "    cb.copy(i[0])\n",
    "    pg.hotkey(\"ctrl\",'v')\n",
    "    pg.press('right')\n",
    "    pg.write('{}'.format(i[1]),interval=0.01)\n",
    "        #pg.wirte(i[1],interval=0.01)\n",
    "    pg.press('right')\n",
    "    pg.write('{}'.format(i[2]),interval=0.01)\n",
    "    pg.press('right')\n",
    "    pg.write('{}'.format(i[3]),interval=0.01)\n",
    "    pg.press(['enter','home'])\n",
    "\n",
    "pg.press('up',presses=6, interval=0.1)\n",
    "pg.press('right',presses=4, interval=0.1)\n",
    "\n",
    "cb.copy('총점\\t평균')\n",
    "pg.sleep(0.5)\n",
    "pg.hotkey('ctrl','v')\n",
    "pg.press('down')\n",
    "\n",
    "for i in range(len(score)):\n",
    "    pg.write(f'=sum(B{2+i}:D{2+i}') \n",
    "    #f의 의미? {}괄호안의 수식을 계산 후 string type 변경하여 사용하겠다.\n",
    "    #참고 https://blockdmask.tistory.com/429\n",
    "    pg.press('right')\n",
    "    pg.write(f'=average(B{2+i}:D{2+i}')\n",
    "    pg.press(['enter','left'])\n",
    "\n",
    "\n"
   ]
  },
  {
   "cell_type": "code",
   "execution_count": 22,
   "metadata": {},
   "outputs": [],
   "source": [
    "win = pg.getWindowsWithTitle('통합')\n",
    "win[0].activate()\n",
    "pg.sleep(3) #실습시 단계별 실행시 대기시간에 엑셀 클릭(활성화)\n",
    "pg.hotkey('ctrl', 'g')  #특정 셀로 이동할 수 있는 창을 실행\n",
    "pg.write('a1', interval=0.1)  #이동 창에 참조 셀을 ‘a1’을 입력하여 ‘A1’셀로 이동 \n",
    "pg.press('enter')\n",
    "pg.sleep(0.5)\n",
    "pg.hotkey('ctrl', 'a')  #데이터가 있는 전체 셀을 선택 선택\n",
    "pg.sleep(0.5)\n",
    "pg.hotkey('alt', 'h')  #단축키를 사용하여 가운데 정렬\n",
    "pg.press(['c','2'])\n",
    "# pg.press('c')\n",
    "# pg.press('2')\n",
    "pg.sleep(0.5)\n",
    "pg.hotkey('ctrl', 't')  #핫키(ctrl+t)를 입력하여 표 만들기를 설정\n",
    "pg.press('enter')\n",
    "pg.hotkey('ctrl', 'g') \n",
    "pg.write('e1', interval=0.1) #총점 순으로 정렬하기 위해 E1셀로 이동\n",
    "pg.press('enter')\n",
    "pg.hotkey('alt', 'a') #내림차순으로 정렬"
   ]
  },
  {
   "cell_type": "code",
   "execution_count": 23,
   "metadata": {},
   "outputs": [],
   "source": [
    "win = pg.getWindowsWithTitle('통합')\n",
    "win[0].activate()\n",
    "pg.sleep(3) #실습시 단계별 실행시 대기시간에 엑셀 클릭(활성화)\n",
    "pg.hotkey('alt', 'f2')\n",
    "pg.write(r'C:\\Users\\poscouser\\Desktop\\score.xlsx', interval=0.1) #바탕화면에 저장\n",
    "pg.press('enter')\n",
    "pg.hotkey('alt', 'f4')"
   ]
  }
 ],
 "metadata": {
  "interpreter": {
   "hash": "f83d677db8bd35d2fb0873f2db9b473d98cd1a0194512a81b941b3e6839d6f79"
  },
  "kernelspec": {
   "display_name": "Python 3.9.10 64-bit",
   "language": "python",
   "name": "python3"
  },
  "language_info": {
   "codemirror_mode": {
    "name": "ipython",
    "version": 3
   },
   "file_extension": ".py",
   "mimetype": "text/x-python",
   "name": "python",
   "nbconvert_exporter": "python",
   "pygments_lexer": "ipython3",
   "version": "3.9.10"
  },
  "orig_nbformat": 4
 },
 "nbformat": 4,
 "nbformat_minor": 2
}
