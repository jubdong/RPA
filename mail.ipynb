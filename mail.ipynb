{
 "cells": [
  {
   "cell_type": "code",
   "execution_count": 1,
   "metadata": {},
   "outputs": [],
   "source": [
    "from selenium import webdriver\n",
    "import pyautogui as pg\n",
    "import sys\n",
    "import clipboard as cb"
   ]
  },
  {
   "cell_type": "code",
   "execution_count": 2,
   "metadata": {},
   "outputs": [],
   "source": [
    "# EP 계정 정보 입력\n",
    "\n",
    "my_id = 'leedong58'\n",
    "my_pw = pg.password(title='패스워드',text='패스워드를 입력하세요')"
   ]
  },
  {
   "cell_type": "code",
   "execution_count": 3,
   "metadata": {},
   "outputs": [],
   "source": [
    "# EP 열기\n",
    "\n",
    "driver = webdriver.Chrome('../chromedriver') \n",
    "driver.get('http://swp.posco.net')\n",
    "driver.maximize_window() # 창 최대화\n",
    "\n",
    "driver.implicitly_wait(10) # driver.get 하는 시간을 최대 10초를 주고 10초 내에 더 빨리 진행 되면 그 뒤의 문장을 진행하여라\n",
    "\n",
    "#아이디 Xpath\n",
    "# //*[@id=\"username\"]\n",
    "# 비밀번호 Xpath\n",
    "# //*[@id=\"password\"]\n",
    "# 로그인 Xpath\n",
    "# //*[@id=\"loginsubmit\"]\n",
    "\n",
    "driver.find_element_by_xpath('//*[@id=\"username\"]').send_keys(my_id)\n",
    "driver.find_element_by_xpath('//*[@id=\"password\"]').send_keys(my_pw)\n",
    "driver.find_element_by_xpath('//*[@id=\"loginsubmit\"]').click()\n",
    "pg.sleep(3)\n",
    "\n",
    "try:\n",
    "    alert = driver.switch_to.alert\n",
    "    alert.accept()\n",
    "except:\n",
    "    print(\"기존 경고창 없음\")"
   ]
  },
  {
   "cell_type": "code",
   "execution_count": 19,
   "metadata": {},
   "outputs": [
    {
     "name": "stdout",
     "output_type": "stream",
     "text": [
      "메일 클릭 중....\n",
      "메일 클릭 성공\n"
     ]
    }
   ],
   "source": [
    "# 메일 열기\n",
    "\n",
    "#활성화 된 창을 검색해서 현재 창과 동일하면 진행\n",
    "\n",
    "for i in range(-1, len(driver.window_handles)):\n",
    "    success_check = False\n",
    "    driver.switch_to.window(driver.window_handles[i])\n",
    "    this_page_title = driver.title\n",
    "    if 'EP(Enterprise Portal)' in this_page_title:\n",
    "        for j in range(3):\n",
    "            try:\n",
    "                print('메일 클릭 중....')\n",
    "                driver.find_element_by_xpath('//*[@id=\"525026\"]/a[1]/span[1]').click() #메일 실행\n",
    "            except: #try 조건이 거짓인 경우\n",
    "                print('메일을 클릭하지 못 했음. 재시도 중!')\n",
    "            else: #try 조건이 참인 경우\n",
    "                print('메일 클릭 성공')\n",
    "                success_check = True\n",
    "                break\n",
    "        break    \n",
    "if success_check is False:\n",
    "    print('진행 중 오류 발생')\n",
    "    sys.exit()   #해당 줄 이후 코드 진행 중단"
   ]
  },
  {
   "cell_type": "code",
   "execution_count": 32,
   "metadata": {},
   "outputs": [
    {
     "name": "stdout",
     "output_type": "stream",
     "text": [
      "메일쓰기 클릭 중....\n",
      "메일쓰기 클릭 성공\n"
     ]
    }
   ],
   "source": [
    "#메일쓰기 화면 열기\n",
    "\n",
    "\n",
    "pg.sleep(3)\n",
    "\n",
    "#활성화 된 창을 검색해서 현재 창과 동일하면 진행\n",
    "\n",
    "for i in range(-1, len(driver.window_handles)):\n",
    "    success_check = False\n",
    "    driver.switch_to.window(driver.window_handles[i])\n",
    "    this_page_title = driver.title\n",
    "    if 'Mail' in this_page_title:\n",
    "        for j in range(3):\n",
    "            try:\n",
    "                print('메일쓰기 클릭 중....')\n",
    "                driver.find_element_by_xpath('//*[@id=\"Lnb\"]/div[1]/a').click() #메일쓰기 실행\n",
    "            except: #try 조건이 거짓인 경우\n",
    "                print('메일쓰기 클릭하지 못 했음. 재시도 중!')\n",
    "            else: #try 조건이 참인 경우 \n",
    "                print('메일쓰기 클릭 성공')\n",
    "                success_check = True\n",
    "                break\n",
    "        break    \n",
    "if success_check is False:\n",
    "    print('진행 중 오류 발생')\n",
    "    sys.exit()   #해당 줄 이후 코드 진행 중단\n"
   ]
  },
  {
   "cell_type": "code",
   "execution_count": 33,
   "metadata": {},
   "outputs": [
    {
     "name": "stdout",
     "output_type": "stream",
     "text": [
      "메일 쓰기 시도 중....\n",
      "메일쓰기 시도하지 못 했음. 재시도 중!\n",
      "메일 쓰기 시도 중....\n",
      "메일쓰기 시도하지 못 했음. 재시도 중!\n",
      "메일 쓰기 시도 중....\n",
      "메일쓰기 시도하지 못 했음. 재시도 중!\n",
      "진행 중 오류 발생\n"
     ]
    },
    {
     "ename": "SystemExit",
     "evalue": "",
     "output_type": "error",
     "traceback": [
      "An exception has occurred, use %tb to see the full traceback.\n",
      "\u001b[1;31mSystemExit\u001b[0m\n"
     ]
    }
   ],
   "source": [
    "#메일 본문 쓰기\n",
    "\n",
    "pg.sleep(3)\n",
    "\n",
    "mail_add = 'leedong58@posco.com'\n",
    "mail_sub = 'RPA 실습 중'\n",
    "mail_con = '자동으로 메일을 보냈습니다'\n",
    "\n",
    "#활성화 된 창을 검색해서 현재 창과 동일하면 진행\n",
    "\n",
    "for i in range(-1, len(driver.window_handles)):\n",
    "    success_check = False\n",
    "    driver.switch_to.window(driver.window_handles[i])\n",
    "    this_page_title = driver.title\n",
    "    if '메일쓰기' in this_page_title:\n",
    "        for j in range(3):\n",
    "            try:\n",
    "                print('메일 쓰기 시도 중....')\n",
    "                driver.find_element_by_xpath('//*[@id=\"token-input-send_to\"]').send_keys(mail_add) #주소 입력\n",
    "                driver.find_element_by_xpath('//*[@id=\"write_send_info\"]/table[2]/tbody/tr[1]/td/input').send_keys(mail_sub) #제목 입력\n",
    "                #메일 본문 frame 찾고 본문 내용 입력하기\n",
    "                driver.switch_to.frame('dext_frame_WEC')\n",
    "                driver.switch_to.frame('dext5_design_WEC')\n",
    "                pg.sleep(0.2)\n",
    "                driver.find_element_by_xpath('//*[@id=\"id_msgbox_wec\"]').click()\n",
    "                driver.find_element_by_xpath('//*[@id=\"dext_body\"]/p[1]\"]').click()\n",
    "                driver.find_element_by_xpath('//*[@id=\"dext_body\"]/p[1]').send_keys(mail_con)\n",
    "\n",
    "            except: #try 조건이 거짓인 경우\n",
    "                print('메일쓰기 시도하지 못 했음. 재시도 중!')\n",
    "            else: #try 조건이 참인 경우 \n",
    "                print('메일쓰기 시도 성공')\n",
    "                success_check = True\n",
    "                break\n",
    "        break    \n",
    "if success_check is False:\n",
    "    print('진행 중 오류 발생')\n",
    "    sys.exit()   #해당 줄 이후 코드 진행 중단\n"
   ]
  },
  {
   "cell_type": "code",
   "execution_count": null,
   "metadata": {},
   "outputs": [],
   "source": [
    "#원래 프레임으로 빠져나오기\n",
    "driver.switch_to_default_content()"
   ]
  }
 ],
 "metadata": {
  "interpreter": {
   "hash": "f83d677db8bd35d2fb0873f2db9b473d98cd1a0194512a81b941b3e6839d6f79"
  },
  "kernelspec": {
   "display_name": "Python 3.9.10 64-bit",
   "language": "python",
   "name": "python3"
  },
  "language_info": {
   "codemirror_mode": {
    "name": "ipython",
    "version": 3
   },
   "file_extension": ".py",
   "mimetype": "text/x-python",
   "name": "python",
   "nbconvert_exporter": "python",
   "pygments_lexer": "ipython3",
   "version": "3.9.10"
  },
  "orig_nbformat": 4
 },
 "nbformat": 4,
 "nbformat_minor": 2
}
