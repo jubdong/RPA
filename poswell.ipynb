{
 "cells": [
  {
   "cell_type": "code",
   "execution_count": null,
   "metadata": {},
   "outputs": [],
   "source": [
    "# https://www.poswel.co.kr/fmenu/three_days.php?area_code=A6&nyear=2022&nmonth=05&reqday=26"
   ]
  },
  {
   "cell_type": "code",
   "execution_count": null,
   "metadata": {},
   "outputs": [],
   "source": [
    "from selenium import webdriver\n",
    "\n",
    "driver = webdriver.Chrome('../chromedriver') # chromedrive.exe로 입력해도 됨 #../ 현재 폴더 보다 상위 1폴더\n",
    "\n",
    "area_code = 'A4'\n",
    "year = '2022'\n",
    "month = '05'\n",
    "day = '27'\n",
    "\n",
    "url = 'https://www.poswel.co.kr/fmenu/three_days.php?area_code={}&nyear={}&nmonth={}&reqday={}'.format(area_code, year, month, day)\n",
    "\n",
    "driver.get(url)\n",
    "\n",
    "driver.maximize_window() # 창 최대화"
   ]
  },
  {
   "cell_type": "code",
   "execution_count": null,
   "metadata": {},
   "outputs": [],
   "source": [
    "#오늘의 점심\n",
    "menu = driver.find_element_by_css_selector('#list_3day > div.list_3day_01 > div:nth-child(5) > div > div.list_3day_menu_tit_explain')\n",
    "print(menu)\n",
    "print(menu.text)"
   ]
  },
  {
   "cell_type": "code",
   "execution_count": null,
   "metadata": {},
   "outputs": [],
   "source": [
    "#오늘의 전체 메뉴\n",
    "menu = driver.find_element_by_css_selector('#list_3day')\n",
    "print(menu)\n",
    "print(menu.text)"
   ]
  }
 ],
 "metadata": {
  "interpreter": {
   "hash": "f83d677db8bd35d2fb0873f2db9b473d98cd1a0194512a81b941b3e6839d6f79"
  },
  "kernelspec": {
   "display_name": "Python 3.9.10 64-bit",
   "language": "python",
   "name": "python3"
  },
  "language_info": {
   "codemirror_mode": {
    "name": "ipython",
    "version": 3
   },
   "file_extension": ".py",
   "mimetype": "text/x-python",
   "name": "python",
   "nbconvert_exporter": "python",
   "pygments_lexer": "ipython3",
   "version": "3.9.10"
  },
  "orig_nbformat": 4
 },
 "nbformat": 4,
 "nbformat_minor": 2
}
