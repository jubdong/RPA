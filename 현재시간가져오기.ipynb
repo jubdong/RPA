{
 "cells": [
  {
   "cell_type": "code",
   "execution_count": null,
   "metadata": {},
   "outputs": [],
   "source": [
    "import datetime\n",
    "now = datetime.datetime.now()\n",
    "        buy_time = (now.hour==9) and (now.minute==0) and (now.second>=0) and (now.second<=10) #오전 9시0분0초~10초"
   ]
  }
 ],
 "metadata": {
  "language_info": {
   "name": "python"
  },
  "orig_nbformat": 4
 },
 "nbformat": 4,
 "nbformat_minor": 2
}
