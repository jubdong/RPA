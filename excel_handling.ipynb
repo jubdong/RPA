{
 "cells": [
  {
   "cell_type": "code",
   "execution_count": null,
   "metadata": {},
   "outputs": [],
   "source": [
    "import win32com.client"
   ]
  },
  {
   "cell_type": "code",
   "execution_count": null,
   "metadata": {},
   "outputs": [],
   "source": [
    "#win32com client 중 Excel 객체를 생성하여 excel 변수에 넣겠다\n",
    "excel = win32com.client.Dispatch('Excel.Application')\n",
    "excel.Visible = True"
   ]
  },
  {
   "cell_type": "code",
   "execution_count": null,
   "metadata": {},
   "outputs": [],
   "source": [
    "# 새로운 통합문서 생성\n",
    "wb = excel.Workbooks.Add()\n"
   ]
  },
  {
   "cell_type": "code",
   "execution_count": null,
   "metadata": {},
   "outputs": [],
   "source": [
    "# 특정 엑셀파일 실행하기\n",
    "wb = excel.Workbooks.Open('D:/sample.xlsx')"
   ]
  },
  {
   "cell_type": "code",
   "execution_count": null,
   "metadata": {},
   "outputs": [],
   "source": [
    "# ws : worksheet\n",
    "ws = wb.Worksheets('sheet1')"
   ]
  },
  {
   "cell_type": "code",
   "execution_count": null,
   "metadata": {},
   "outputs": [],
   "source": [
    "# 정렬하기\n",
    "ws.Columns('A:E').HorizontalAlignment = 3\n",
    "\n",
    "# 1기본 2왼쪽정렬 3가운데정렬 4오른쪽정렬\n"
   ]
  },
  {
   "cell_type": "code",
   "execution_count": null,
   "metadata": {},
   "outputs": [],
   "source": [
    "#필터링\n",
    "ws.Range('A:E').AutoFilter(Field = 3, Criteria1 = '>0.5') #Field = 3 -> 3열"
   ]
  },
  {
   "cell_type": "code",
   "execution_count": null,
   "metadata": {},
   "outputs": [],
   "source": [
    "# 특정 Column에 \n",
    "i = 1\n",
    "\n",
    "cell_value = ws.Cells(i,1).Value\n",
    "\n",
    "while(cell_value !=None):\n",
    "    i += 1\n",
    "    cell_value = ws.Cells(i,1).Value\n",
    "\n",
    "max_row = i - 1"
   ]
  },
  {
   "cell_type": "code",
   "execution_count": null,
   "metadata": {},
   "outputs": [],
   "source": [
    "ws.Cells(max_row+1,1).Value = '합계'\n"
   ]
  },
  {
   "cell_type": "code",
   "execution_count": null,
   "metadata": {},
   "outputs": [],
   "source": [
    "ABC = string.ascii_uppercase\n",
    "ABC"
   ]
  },
  {
   "cell_type": "code",
   "execution_count": null,
   "metadata": {},
   "outputs": [],
   "source": [
    "#합계 \n",
    "import string\n",
    "abc = string.ascii_lowercase\n",
    "\n",
    "for col in range(2,6):\n",
    "    ws.Cells(max_row+1,col).Formula = '=sum({}2:{}{}'.format(abc[col-1],abc[col-1],max_row)\n",
    "                                  "
   ]
  },
  {
   "cell_type": "code",
   "execution_count": null,
   "metadata": {},
   "outputs": [],
   "source": [
    "#평균 \n",
    "#max column 구하기\n",
    "j = 1\n",
    "cell_value = ws.Cells(1,j).Value\n",
    "while(cell_value !=None):\n",
    "    j += 1\n",
    "    cell_value = ws.Cells(1,j).Value\n",
    "max_col = j - 1\n",
    "\n",
    "#평균 구하기\n",
    "ws.Cells(1,max_col+1).Value = '평균'\n",
    "\n",
    "for idx in range(2,max_row):\n",
    "    ws.Cells(idx,max_col+1).Formula = '=average(B{}:E{}'.format(idx,idx)\n",
    "                                  "
   ]
  },
  {
   "cell_type": "markdown",
   "metadata": {},
   "source": [
    "##### 셀 테두리"
   ]
  },
  {
   "cell_type": "code",
   "execution_count": null,
   "metadata": {},
   "outputs": [],
   "source": [
    "ws.Range(ws.Cells(1,1), ws.Cells(12,6)).BorderAround(ColorIndex = 1,Weight = 2,LineStyle = 1)"
   ]
  },
  {
   "cell_type": "code",
   "execution_count": null,
   "metadata": {},
   "outputs": [],
   "source": [
    "p = 1\n",
    "o = 1\n",
    "\n",
    "while p < 12 :\n",
    "    for p in range(1,13):\n",
    "        for o in range(1,7):\n",
    "            ws.Range(ws.Cells(p,o), ws.Cells(p,o)).BorderAround(ColorIndex = 7,Weight = 2,LineStyle = 1)"
   ]
  },
  {
   "cell_type": "markdown",
   "metadata": {},
   "source": [
    "#### 차트 그리기"
   ]
  },
  {
   "cell_type": "code",
   "execution_count": null,
   "metadata": {},
   "outputs": [],
   "source": [
    "chart = ws.Shapes.AddChart(65).Select()\n",
    "excel.ActiveChart.SetSourceData(Source=ws.Range(ws.Cells(1,1),ws.Cells(11,5))) #데이터 범위 설정\n"
   ]
  },
  {
   "cell_type": "code",
   "execution_count": null,
   "metadata": {},
   "outputs": [],
   "source": [
    "chart = ws.Shapes.AddChart(2,100,100,500,300).Select()\n",
    "excel.ActiveChart.SetSourceData(Source=ws.Range(ws.Cells(1,1),ws.Cells(11,5)))"
   ]
  },
  {
   "cell_type": "code",
   "execution_count": null,
   "metadata": {},
   "outputs": [],
   "source": [
    "#차트 제목 보이기 True False\n",
    "excel.ActiveChart.HasTitle = True"
   ]
  },
  {
   "cell_type": "code",
   "execution_count": null,
   "metadata": {},
   "outputs": [],
   "source": [
    "#차트 제목 글꼴 수정\n",
    "excel.ActiveChart.ChartTitle.Text = '분기별 매출액'\n",
    "excel.ActiveChart.ChartTitle.Characters.Font.Size = 14\n",
    "excel.ActiveChart.ChartTitle.Characters.Font.ColorIndex = 4\n",
    "excel.ActiveChart.ChartTitle.Characters.Font.Bold = False"
   ]
  },
  {
   "cell_type": "code",
   "execution_count": null,
   "metadata": {},
   "outputs": [],
   "source": [
    "#범례(Legend) 보이기True / 가리기False\n",
    "excel.ActiveChart.HasLegend = True "
   ]
  },
  {
   "cell_type": "code",
   "execution_count": 72,
   "metadata": {},
   "outputs": [],
   "source": [
    "#범례 폰트 \n",
    "excel.ActiveChart.Legend.Font.Size = 14\n",
    "excel.ActiveChart.Legend.Font.ColorIndex = 4\n",
    "excel.ActiveChart.Legend.Font.Bold = False"
   ]
  },
  {
   "cell_type": "code",
   "execution_count": 73,
   "metadata": {},
   "outputs": [],
   "source": [
    "# 데이터 레이블 추가\n",
    "excel.ActiveChart.FullSeriesCollection(1).ApplyDataLabels()"
   ]
  }
 ],
 "metadata": {
  "interpreter": {
   "hash": "f83d677db8bd35d2fb0873f2db9b473d98cd1a0194512a81b941b3e6839d6f79"
  },
  "kernelspec": {
   "display_name": "Python 3.9.10 64-bit",
   "language": "python",
   "name": "python3"
  },
  "language_info": {
   "codemirror_mode": {
    "name": "ipython",
    "version": 3
   },
   "file_extension": ".py",
   "mimetype": "text/x-python",
   "name": "python",
   "nbconvert_exporter": "python",
   "pygments_lexer": "ipython3",
   "version": "3.9.10"
  },
  "orig_nbformat": 4
 },
 "nbformat": 4,
 "nbformat_minor": 2
}
